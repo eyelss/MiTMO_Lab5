{
 "cells": [
  {
   "cell_type": "markdown",
   "source": [
    "### Загрузите данные файла planets.csv о планетах в разных планетных системах галлактики (планеты одной системы идут в списке рядом). Поля данных:  способ обнаружения, число планет в системе своего «солнца», период обращения вокруг своего «солнца», масса планеты, расстояние от центра планетной системы до нашего Солнца, год обнаружения."
   ],
   "metadata": {
    "collapsed": false,
    "pycharm": {
     "name": "#%% md\n"
    }
   }
  },
  {
   "cell_type": "code",
   "execution_count": 105,
   "metadata": {
    "collapsed": true,
    "pycharm": {
     "name": "#%%\n"
    }
   },
   "outputs": [],
   "source": [
    "import numpy as np\n",
    "import pandas as pd\n",
    "import matplotlib.pyplot as plt\n",
    "from string import ascii_uppercase"
   ]
  },
  {
   "cell_type": "code",
   "execution_count": 3,
   "outputs": [
    {
     "name": "stdout",
     "output_type": "stream",
     "text": [
      "               method  number  orbital_period   mass  distance  year\n",
      "0     Radial Velocity       1      269.300000   7.10     77.40  2006\n",
      "1     Radial Velocity       1      874.774000   2.21     56.95  2008\n",
      "2     Radial Velocity       1      763.000000   2.60     19.84  2011\n",
      "3     Radial Velocity       1      326.030000  19.40    110.62  2007\n",
      "4     Radial Velocity       1      516.220000  10.50    119.47  2009\n",
      "...               ...     ...             ...    ...       ...   ...\n",
      "1030          Transit       1        3.941507    NaN    172.00  2006\n",
      "1031          Transit       1        2.615864    NaN    148.00  2007\n",
      "1032          Transit       1        3.191524    NaN    174.00  2007\n",
      "1033          Transit       1        4.125083    NaN    293.00  2008\n",
      "1034          Transit       1        4.187757    NaN    260.00  2008\n",
      "\n",
      "[1035 rows x 6 columns]\n"
     ]
    }
   ],
   "source": [
    "df = pd.read_csv(\"planets.csv\", delimiter=\";\")\n",
    "print(df)"
   ],
   "metadata": {
    "collapsed": false,
    "pycharm": {
     "name": "#%%\n"
    }
   }
  },
  {
   "cell_type": "markdown",
   "source": [
    "### Получите описание данных: число записей, число полей."
   ],
   "metadata": {
    "collapsed": false,
    "pycharm": {
     "name": "#%% md\n"
    }
   }
  },
  {
   "cell_type": "code",
   "execution_count": 4,
   "outputs": [
    {
     "name": "stdout",
     "output_type": "stream",
     "text": [
      "columns: 6, rows: 1035\n"
     ]
    }
   ],
   "source": [
    "print(f\"columns: {len(df.columns)}, rows: {len(df)}\")"
   ],
   "metadata": {
    "collapsed": false,
    "pycharm": {
     "name": "#%%\n"
    }
   }
  },
  {
   "cell_type": "markdown",
   "source": [
    "### По каждому полю определите:\n",
    "\n",
    "#### * тип поля: категориальный, порядковый, числовой, текстовый)\n",
    "\n",
    "#### * число имеющихся значений,\n",
    "\n",
    "#### * число уникальных значений,\n",
    "\n",
    "#### * число отсутствующих значений."
   ],
   "metadata": {
    "collapsed": false,
    "pycharm": {
     "name": "#%% md\n"
    }
   }
  },
  {
   "cell_type": "code",
   "execution_count": 15,
   "outputs": [
    {
     "name": "stdout",
     "output_type": "stream",
     "text": [
      "method\n",
      "    Values amount: 1035 | not nan: 1035\n",
      "    Unique values amount: 10\n",
      "    Empty values amount: 0\n",
      "number\n",
      "    Values amount: 1035 | not nan: 1035\n",
      "    Unique values amount: 7\n",
      "    Empty values amount: 0\n",
      "orbital_period\n",
      "    Values amount: 1035 | not nan: 992\n",
      "    Unique values amount: 988\n",
      "    Empty values amount: 43\n",
      "mass\n",
      "    Values amount: 1035 | not nan: 513\n",
      "    Unique values amount: 381\n",
      "    Empty values amount: 522\n",
      "distance\n",
      "    Values amount: 1035 | not nan: 808\n",
      "    Unique values amount: 552\n",
      "    Empty values amount: 227\n",
      "year\n",
      "    Values amount: 1035 | not nan: 1035\n",
      "    Unique values amount: 23\n",
      "    Empty values amount: 0\n",
      "\n",
      "    method:             категориальный\n",
      "    number:             порядковый\n",
      "    orbital_period:     числовой\n",
      "    mass:               числовой\n",
      "    distance:           числовой\n",
      "    year:               порядковый\n",
      "\n"
     ]
    }
   ],
   "source": [
    "\n",
    "for col in df.columns:\n",
    "    print(col)\n",
    "    print(f\"    Values amount: {len(df[col])} | not nan: {df[col].count()}\")\n",
    "    print(f\"    Unique values amount: {(df[col]).nunique()}\")\n",
    "    print(f\"    Empty values amount: {(df[col].isna()).sum()}\")\n",
    "print(\"\"\"\n",
    "    method:             категориальный\n",
    "    number:             порядковый\n",
    "    orbital_period:     числовой\n",
    "    mass:               числовой\n",
    "    distance:           числовой\n",
    "    year:               порядковый\n",
    "\"\"\")"
   ],
   "metadata": {
    "collapsed": false,
    "pycharm": {
     "name": "#%%\n"
    }
   }
  },
  {
   "cell_type": "markdown",
   "source": [
    "### По каждому числовому полю определите: мин, макс, среднее, медиану, среднеквадратическое отклонение."
   ],
   "metadata": {
    "collapsed": false,
    "pycharm": {
     "name": "#%% md\n"
    }
   }
  },
  {
   "cell_type": "code",
   "execution_count": 29,
   "outputs": [
    {
     "name": "stdout",
     "output_type": "stream",
     "text": [
      "\n",
      "            orbital_period\n",
      "                min: 0.09070629\n",
      "                max: 730000.0\n",
      "                avg: 2002.9175960947582\n",
      "                med: 39.9795\n",
      "                msd: 26014.728304062508\n",
      "        \n",
      "\n",
      "            mass\n",
      "                min: 0.0036\n",
      "                max: 25.0\n",
      "                avg: 2.6381605847953216\n",
      "                med: 1.26\n",
      "                msd: 3.8186166509616046\n",
      "        \n",
      "\n",
      "            distance\n",
      "                min: 1.35\n",
      "                max: 8500.0\n",
      "                avg: 264.06928217821786\n",
      "                med: 55.25\n",
      "                msd: 733.1164929404421\n",
      "        \n"
     ]
    }
   ],
   "source": [
    "for col in [\"orbital_period\", \"mass\", \"distance\"]:\n",
    "    try:\n",
    "        print(f\"\"\"\n",
    "            {col}\n",
    "                min: {df[col].min()}\n",
    "                max: {df[col].max()}\n",
    "                avg: {df[col].mean()}\n",
    "                med: {df[col].median()}\n",
    "                msd: {df[col].std()}\n",
    "        \"\"\")\n",
    "    except:\n",
    "        pass"
   ],
   "metadata": {
    "collapsed": false,
    "pycharm": {
     "name": "#%%\n"
    }
   }
  },
  {
   "cell_type": "markdown",
   "source": [
    "### По каждой категории: число планет и средние значения остальных признаков."
   ],
   "metadata": {
    "collapsed": false,
    "pycharm": {
     "name": "#%% md\n"
    }
   }
  },
  {
   "cell_type": "code",
   "execution_count": 32,
   "outputs": [
    {
     "data": {
      "text/plain": "                               number  orbital_period      mass     distance  \\\nmethod                                                                         \nAstrometry                          2      631.180000       NaN    17.875000   \nEclipse Timing Variations          15     4751.644444  5.125000   315.360000   \nImaging                            50   118247.737500       NaN    67.715937   \nMicrolensing                       27     3153.571429       NaN  4144.000000   \nOrbital Brightness Modulation       5        0.709307       NaN  1180.000000   \nPulsar Timing                      11     7343.021201       NaN  1200.000000   \nPulsation Timing Variations         1     1170.000000       NaN          NaN   \nRadial Velocity                   952      823.354680  2.630699    51.600208   \nTransit                           776       21.102073  1.470000   599.298080   \nTransit Timing Variations           9       79.783500       NaN  1104.333333   \n\n                                      year  \nmethod                                      \nAstrometry                     2011.500000  \nEclipse Timing Variations      2010.000000  \nImaging                        2009.131579  \nMicrolensing                   2009.782609  \nOrbital Brightness Modulation  2011.666667  \nPulsar Timing                  1998.400000  \nPulsation Timing Variations    2007.000000  \nRadial Velocity                2007.518987  \nTransit                        2011.236776  \nTransit Timing Variations      2012.500000  ",
      "text/html": "<div>\n<style scoped>\n    .dataframe tbody tr th:only-of-type {\n        vertical-align: middle;\n    }\n\n    .dataframe tbody tr th {\n        vertical-align: top;\n    }\n\n    .dataframe thead th {\n        text-align: right;\n    }\n</style>\n<table border=\"1\" class=\"dataframe\">\n  <thead>\n    <tr style=\"text-align: right;\">\n      <th></th>\n      <th>number</th>\n      <th>orbital_period</th>\n      <th>mass</th>\n      <th>distance</th>\n      <th>year</th>\n    </tr>\n    <tr>\n      <th>method</th>\n      <th></th>\n      <th></th>\n      <th></th>\n      <th></th>\n      <th></th>\n    </tr>\n  </thead>\n  <tbody>\n    <tr>\n      <th>Astrometry</th>\n      <td>2</td>\n      <td>631.180000</td>\n      <td>NaN</td>\n      <td>17.875000</td>\n      <td>2011.500000</td>\n    </tr>\n    <tr>\n      <th>Eclipse Timing Variations</th>\n      <td>15</td>\n      <td>4751.644444</td>\n      <td>5.125000</td>\n      <td>315.360000</td>\n      <td>2010.000000</td>\n    </tr>\n    <tr>\n      <th>Imaging</th>\n      <td>50</td>\n      <td>118247.737500</td>\n      <td>NaN</td>\n      <td>67.715937</td>\n      <td>2009.131579</td>\n    </tr>\n    <tr>\n      <th>Microlensing</th>\n      <td>27</td>\n      <td>3153.571429</td>\n      <td>NaN</td>\n      <td>4144.000000</td>\n      <td>2009.782609</td>\n    </tr>\n    <tr>\n      <th>Orbital Brightness Modulation</th>\n      <td>5</td>\n      <td>0.709307</td>\n      <td>NaN</td>\n      <td>1180.000000</td>\n      <td>2011.666667</td>\n    </tr>\n    <tr>\n      <th>Pulsar Timing</th>\n      <td>11</td>\n      <td>7343.021201</td>\n      <td>NaN</td>\n      <td>1200.000000</td>\n      <td>1998.400000</td>\n    </tr>\n    <tr>\n      <th>Pulsation Timing Variations</th>\n      <td>1</td>\n      <td>1170.000000</td>\n      <td>NaN</td>\n      <td>NaN</td>\n      <td>2007.000000</td>\n    </tr>\n    <tr>\n      <th>Radial Velocity</th>\n      <td>952</td>\n      <td>823.354680</td>\n      <td>2.630699</td>\n      <td>51.600208</td>\n      <td>2007.518987</td>\n    </tr>\n    <tr>\n      <th>Transit</th>\n      <td>776</td>\n      <td>21.102073</td>\n      <td>1.470000</td>\n      <td>599.298080</td>\n      <td>2011.236776</td>\n    </tr>\n    <tr>\n      <th>Transit Timing Variations</th>\n      <td>9</td>\n      <td>79.783500</td>\n      <td>NaN</td>\n      <td>1104.333333</td>\n      <td>2012.500000</td>\n    </tr>\n  </tbody>\n</table>\n</div>"
     },
     "execution_count": 32,
     "metadata": {},
     "output_type": "execute_result"
    }
   ],
   "source": [
    "df.groupby([\"method\"]).agg({\n",
    "    \"number\": np.sum,\n",
    "    \"orbital_period\": np.mean,\n",
    "    \"mass\": np.mean,\n",
    "    \"distance\": np.mean,\n",
    "    \"year\": np.mean,\n",
    "})"
   ],
   "metadata": {
    "collapsed": false,
    "pycharm": {
     "name": "#%%\n"
    }
   }
  },
  {
   "cell_type": "markdown",
   "source": [
    "### Определите число записей, имеющих пропуски данных и общее число пропусков."
   ],
   "metadata": {
    "collapsed": false,
    "pycharm": {
     "name": "#%% md\n"
    }
   }
  },
  {
   "cell_type": "code",
   "execution_count": 35,
   "outputs": [
    {
     "name": "stdout",
     "output_type": "stream",
     "text": [
      "Rows with NaN: 537, all NaN: 792\n"
     ]
    }
   ],
   "source": [
    "all_na = 0\n",
    "rows_na = len(df[df.isna().any(axis=1)])\n",
    "for col in df.columns:\n",
    "    all_na += df[col].isna().sum()\n",
    "print(f\"Rows with NaN: {rows_na}, all NaN: {all_na}\")"
   ],
   "metadata": {
    "collapsed": false,
    "pycharm": {
     "name": "#%%\n"
    }
   }
  },
  {
   "cell_type": "markdown",
   "source": [
    "### Для каждого числа возможных пропусков в отдельной записи (от 0 до укажите, в скольких записях столько пропусков."
   ],
   "metadata": {
    "collapsed": false,
    "pycharm": {
     "name": "#%% md\n"
    }
   }
  },
  {
   "cell_type": "code",
   "execution_count": 37,
   "outputs": [
    {
     "data": {
      "text/plain": "0       0\n1       0\n2       0\n3       0\n4       0\n       ..\n1030    1\n1031    1\n1032    1\n1033    1\n1034    1\nLength: 1035, dtype: int64"
     },
     "execution_count": 37,
     "metadata": {},
     "output_type": "execute_result"
    }
   ],
   "source": [
    "df.isna().sum(axis=1)"
   ],
   "metadata": {
    "collapsed": false,
    "pycharm": {
     "name": "#%%\n"
    }
   }
  },
  {
   "cell_type": "markdown",
   "source": [
    "### Для каждого года обнаружения планеты укажите среднее число пропусков данных для одной планеты."
   ],
   "metadata": {
    "collapsed": false,
    "pycharm": {
     "name": "#%% md\n"
    }
   }
  },
  {
   "cell_type": "code",
   "execution_count": 96,
   "outputs": [
    {
     "name": "stderr",
     "output_type": "stream",
     "text": [
      "C:\\Users\\WinNi\\AppData\\Local\\Temp\\ipykernel_17828\\3050150768.py:2: FutureWarning: The default value of numeric_only in DataFrameGroupBy.mean is deprecated. In a future version, numeric_only will default to False. Either specify numeric_only or select only columns which should be valid for the function.\n",
      "  df_nans = df.merge(df_nans.rename(\"nans\"), left_index=True, right_index=True).groupby(\"year\").mean()[\"nans\"]\n"
     ]
    },
    {
     "data": {
      "text/plain": "year\n1989    0.000000\n1992    2.000000\n1994    2.000000\n1995    0.000000\n1996    0.333333\n1997    0.000000\n1998    0.000000\n1999    0.066667\n2000    0.125000\n2001    0.083333\n2002    0.062500\n2003    0.160000\n2004    0.692308\n2005    0.205128\n2006    0.548387\n2007    0.566038\n2008    0.621622\n2009    0.418367\n2010    0.745098\n2011    0.675676\n2012    1.235714\n2013    1.237288\n2014    1.807692\nName: nans, dtype: float64"
     },
     "execution_count": 96,
     "metadata": {},
     "output_type": "execute_result"
    }
   ],
   "source": [
    "df_nans = df.agg(lambda x: x.isna().sum(), axis=1) # .sum(axis=1)\n",
    "df_nans = df.merge(df_nans.rename(\"nans\"), left_index=True, right_index=True).groupby(\"year\").mean()[\"nans\"]\n",
    "df_nans"
   ],
   "metadata": {
    "collapsed": false,
    "pycharm": {
     "name": "#%%\n"
    }
   }
  },
  {
   "cell_type": "markdown",
   "source": [
    "### Для каждой категории укажите среднее число пропусков данных для одной планеты."
   ],
   "metadata": {
    "collapsed": false,
    "pycharm": {
     "name": "#%% md\n"
    }
   }
  },
  {
   "cell_type": "code",
   "execution_count": 95,
   "outputs": [
    {
     "data": {
      "text/plain": "method\nAstrometry                       1.000000\nEclipse Timing Variations        1.333333\nImaging                          1.842105\nMicrolensing                     2.260870\nOrbital Brightness Modulation    1.333333\nPulsar Timing                    1.800000\nPulsation Timing Variations      2.000000\nRadial Velocity                  0.119349\nTransit                          1.433249\nTransit Timing Variations        1.500000\nName: nans, dtype: float64"
     },
     "execution_count": 95,
     "metadata": {},
     "output_type": "execute_result"
    }
   ],
   "source": [
    "df_nans = df.agg(lambda x: x.isna().sum(), axis=1) # .sum(axis=1)\n",
    "df_nans = df.merge(df_nans.rename(\"nans\"), left_index=True, right_index=True).groupby(\"method\").mean()[\"nans\"]\n",
    "df_nans"
   ],
   "metadata": {
    "collapsed": false,
    "pycharm": {
     "name": "#%%\n"
    }
   }
  },
  {
   "cell_type": "markdown",
   "source": [
    "### Удалите записи с число пропусков более 2-х."
   ],
   "metadata": {
    "collapsed": false,
    "pycharm": {
     "name": "#%% md\n"
    }
   }
  },
  {
   "cell_type": "code",
   "execution_count": 115,
   "outputs": [
    {
     "data": {
      "text/plain": "               method  number  orbital_period   mass  distance  year\n0     Radial Velocity       1      269.300000   7.10     77.40  2006\n1     Radial Velocity       1      874.774000   2.21     56.95  2008\n2     Radial Velocity       1      763.000000   2.60     19.84  2011\n3     Radial Velocity       1      326.030000  19.40    110.62  2007\n4     Radial Velocity       1      516.220000  10.50    119.47  2009\n...               ...     ...             ...    ...       ...   ...\n1030          Transit       1        3.941507    NaN    172.00  2006\n1031          Transit       1        2.615864    NaN    148.00  2007\n1032          Transit       1        3.191524    NaN    174.00  2007\n1033          Transit       1        4.125083    NaN    293.00  2008\n1034          Transit       1        4.187757    NaN    260.00  2008\n\n[791 rows x 6 columns]",
      "text/html": "<div>\n<style scoped>\n    .dataframe tbody tr th:only-of-type {\n        vertical-align: middle;\n    }\n\n    .dataframe tbody tr th {\n        vertical-align: top;\n    }\n\n    .dataframe thead th {\n        text-align: right;\n    }\n</style>\n<table border=\"1\" class=\"dataframe\">\n  <thead>\n    <tr style=\"text-align: right;\">\n      <th></th>\n      <th>method</th>\n      <th>number</th>\n      <th>orbital_period</th>\n      <th>mass</th>\n      <th>distance</th>\n      <th>year</th>\n    </tr>\n  </thead>\n  <tbody>\n    <tr>\n      <th>0</th>\n      <td>Radial Velocity</td>\n      <td>1</td>\n      <td>269.300000</td>\n      <td>7.10</td>\n      <td>77.40</td>\n      <td>2006</td>\n    </tr>\n    <tr>\n      <th>1</th>\n      <td>Radial Velocity</td>\n      <td>1</td>\n      <td>874.774000</td>\n      <td>2.21</td>\n      <td>56.95</td>\n      <td>2008</td>\n    </tr>\n    <tr>\n      <th>2</th>\n      <td>Radial Velocity</td>\n      <td>1</td>\n      <td>763.000000</td>\n      <td>2.60</td>\n      <td>19.84</td>\n      <td>2011</td>\n    </tr>\n    <tr>\n      <th>3</th>\n      <td>Radial Velocity</td>\n      <td>1</td>\n      <td>326.030000</td>\n      <td>19.40</td>\n      <td>110.62</td>\n      <td>2007</td>\n    </tr>\n    <tr>\n      <th>4</th>\n      <td>Radial Velocity</td>\n      <td>1</td>\n      <td>516.220000</td>\n      <td>10.50</td>\n      <td>119.47</td>\n      <td>2009</td>\n    </tr>\n    <tr>\n      <th>...</th>\n      <td>...</td>\n      <td>...</td>\n      <td>...</td>\n      <td>...</td>\n      <td>...</td>\n      <td>...</td>\n    </tr>\n    <tr>\n      <th>1030</th>\n      <td>Transit</td>\n      <td>1</td>\n      <td>3.941507</td>\n      <td>NaN</td>\n      <td>172.00</td>\n      <td>2006</td>\n    </tr>\n    <tr>\n      <th>1031</th>\n      <td>Transit</td>\n      <td>1</td>\n      <td>2.615864</td>\n      <td>NaN</td>\n      <td>148.00</td>\n      <td>2007</td>\n    </tr>\n    <tr>\n      <th>1032</th>\n      <td>Transit</td>\n      <td>1</td>\n      <td>3.191524</td>\n      <td>NaN</td>\n      <td>174.00</td>\n      <td>2007</td>\n    </tr>\n    <tr>\n      <th>1033</th>\n      <td>Transit</td>\n      <td>1</td>\n      <td>4.125083</td>\n      <td>NaN</td>\n      <td>293.00</td>\n      <td>2008</td>\n    </tr>\n    <tr>\n      <th>1034</th>\n      <td>Transit</td>\n      <td>1</td>\n      <td>4.187757</td>\n      <td>NaN</td>\n      <td>260.00</td>\n      <td>2008</td>\n    </tr>\n  </tbody>\n</table>\n<p>791 rows × 6 columns</p>\n</div>"
     },
     "execution_count": 115,
     "metadata": {},
     "output_type": "execute_result"
    }
   ],
   "source": [
    "df_temp = pd.concat([df.isna().sum(axis=1).to_frame(\"nans\"), df], axis=1)\n",
    "df_temp[df_temp[\"nans\"] < 2][[\"method\", \"number\", \"orbital_period\", \"mass\", \"distance\", \"year\"]]"
   ],
   "metadata": {
    "collapsed": false,
    "pycharm": {
     "name": "#%%\n"
    }
   }
  },
  {
   "cell_type": "markdown",
   "source": [
    "### Замените пропуски на (по вариантам: 0 – на среднее значение признака по всему набору, 1 – на среднее значение признака по категории, 2 – на значение случайного объекта этой же категории, 3 – на среднее значение трех случайных объектов этой же категории, 4 – на значение ближайшего объекта этой же категории, 5 – на среднее значение трех ближайших объектов этой же категории, номер варианта равен N mod 6, где N – ваш номер по списку преподавателя)."
   ],
   "metadata": {
    "collapsed": false,
    "pycharm": {
     "name": "#%% md\n"
    }
   }
  },
  {
   "cell_type": "code",
   "execution_count": 116,
   "outputs": [
    {
     "data": {
      "text/plain": "      nans           method  number  orbital_period       mass  distance  year\n0        0  Radial Velocity       1      269.300000   7.100000     77.40  2006\n1        0  Radial Velocity       1      874.774000   2.210000     56.95  2008\n2        0  Radial Velocity       1      763.000000   2.600000     19.84  2011\n3        0  Radial Velocity       1      326.030000  19.400000    110.62  2007\n4        0  Radial Velocity       1      516.220000  10.500000    119.47  2009\n...    ...              ...     ...             ...        ...       ...   ...\n1030     1          Transit       1        3.941507   2.638161    172.00  2006\n1031     1          Transit       1        2.615864   2.638161    148.00  2007\n1032     1          Transit       1        3.191524   2.638161    174.00  2007\n1033     1          Transit       1        4.125083   2.638161    293.00  2008\n1034     1          Transit       1        4.187757   2.638161    260.00  2008\n\n[1035 rows x 7 columns]",
      "text/html": "<div>\n<style scoped>\n    .dataframe tbody tr th:only-of-type {\n        vertical-align: middle;\n    }\n\n    .dataframe tbody tr th {\n        vertical-align: top;\n    }\n\n    .dataframe thead th {\n        text-align: right;\n    }\n</style>\n<table border=\"1\" class=\"dataframe\">\n  <thead>\n    <tr style=\"text-align: right;\">\n      <th></th>\n      <th>nans</th>\n      <th>method</th>\n      <th>number</th>\n      <th>orbital_period</th>\n      <th>mass</th>\n      <th>distance</th>\n      <th>year</th>\n    </tr>\n  </thead>\n  <tbody>\n    <tr>\n      <th>0</th>\n      <td>0</td>\n      <td>Radial Velocity</td>\n      <td>1</td>\n      <td>269.300000</td>\n      <td>7.100000</td>\n      <td>77.40</td>\n      <td>2006</td>\n    </tr>\n    <tr>\n      <th>1</th>\n      <td>0</td>\n      <td>Radial Velocity</td>\n      <td>1</td>\n      <td>874.774000</td>\n      <td>2.210000</td>\n      <td>56.95</td>\n      <td>2008</td>\n    </tr>\n    <tr>\n      <th>2</th>\n      <td>0</td>\n      <td>Radial Velocity</td>\n      <td>1</td>\n      <td>763.000000</td>\n      <td>2.600000</td>\n      <td>19.84</td>\n      <td>2011</td>\n    </tr>\n    <tr>\n      <th>3</th>\n      <td>0</td>\n      <td>Radial Velocity</td>\n      <td>1</td>\n      <td>326.030000</td>\n      <td>19.400000</td>\n      <td>110.62</td>\n      <td>2007</td>\n    </tr>\n    <tr>\n      <th>4</th>\n      <td>0</td>\n      <td>Radial Velocity</td>\n      <td>1</td>\n      <td>516.220000</td>\n      <td>10.500000</td>\n      <td>119.47</td>\n      <td>2009</td>\n    </tr>\n    <tr>\n      <th>...</th>\n      <td>...</td>\n      <td>...</td>\n      <td>...</td>\n      <td>...</td>\n      <td>...</td>\n      <td>...</td>\n      <td>...</td>\n    </tr>\n    <tr>\n      <th>1030</th>\n      <td>1</td>\n      <td>Transit</td>\n      <td>1</td>\n      <td>3.941507</td>\n      <td>2.638161</td>\n      <td>172.00</td>\n      <td>2006</td>\n    </tr>\n    <tr>\n      <th>1031</th>\n      <td>1</td>\n      <td>Transit</td>\n      <td>1</td>\n      <td>2.615864</td>\n      <td>2.638161</td>\n      <td>148.00</td>\n      <td>2007</td>\n    </tr>\n    <tr>\n      <th>1032</th>\n      <td>1</td>\n      <td>Transit</td>\n      <td>1</td>\n      <td>3.191524</td>\n      <td>2.638161</td>\n      <td>174.00</td>\n      <td>2007</td>\n    </tr>\n    <tr>\n      <th>1033</th>\n      <td>1</td>\n      <td>Transit</td>\n      <td>1</td>\n      <td>4.125083</td>\n      <td>2.638161</td>\n      <td>293.00</td>\n      <td>2008</td>\n    </tr>\n    <tr>\n      <th>1034</th>\n      <td>1</td>\n      <td>Transit</td>\n      <td>1</td>\n      <td>4.187757</td>\n      <td>2.638161</td>\n      <td>260.00</td>\n      <td>2008</td>\n    </tr>\n  </tbody>\n</table>\n<p>1035 rows × 7 columns</p>\n</div>"
     },
     "execution_count": 116,
     "metadata": {},
     "output_type": "execute_result"
    }
   ],
   "source": [
    "for col in [\"number\", \"orbital_period\", \"mass\", \"distance\", \"year\"]:\n",
    "    df_temp[col].fillna((df_temp[col].mean()), inplace=True)\n",
    "df_temp"
   ],
   "metadata": {
    "collapsed": false,
    "pycharm": {
     "name": "#%%\n"
    }
   }
  },
  {
   "cell_type": "markdown",
   "source": [
    "### Добавьте поле «код планеты», куда внесите составной код, типа В74, построенный по правилу: в качестве числа уникальный номер планетной системы, где обнаружена планета (признак принадлежности нескольких планет к одной системе: расположение в списке рядом, одинаковое число планет в системе, одинаковое расстояние до Солнца), а в качестве буквы – номер планеты от центра системы (1-А, 2-В, 3-С, 4-D, …), который определяется по возрастанию периода обращения."
   ],
   "metadata": {
    "collapsed": false,
    "pycharm": {
     "name": "#%% md\n"
    }
   }
  },
  {
   "cell_type": "code",
   "execution_count": 117,
   "outputs": [
    {
     "data": {
      "text/plain": "      nans           method  number  orbital_period       mass  distance  \\\n0        0  Radial Velocity       1      269.300000   7.100000     77.40   \n1        0  Radial Velocity       1      874.774000   2.210000     56.95   \n2        0  Radial Velocity       1      763.000000   2.600000     19.84   \n3        0  Radial Velocity       1      326.030000  19.400000    110.62   \n4        0  Radial Velocity       1      516.220000  10.500000    119.47   \n...    ...              ...     ...             ...        ...       ...   \n1030     1          Transit       1        3.941507   2.638161    172.00   \n1031     1          Transit       1        2.615864   2.638161    148.00   \n1032     1          Transit       1        3.191524   2.638161    174.00   \n1033     1          Transit       1        4.125083   2.638161    293.00   \n1034     1          Transit       1        4.187757   2.638161    260.00   \n\n      year  code  \n0     2006    A1  \n1     2008    A2  \n2     2011    A3  \n3     2007    A4  \n4     2009    A5  \n...    ...   ...  \n1030  2006  A769  \n1031  2007  A770  \n1032  2007  A771  \n1033  2008  A772  \n1034  2008  A773  \n\n[1035 rows x 8 columns]",
      "text/html": "<div>\n<style scoped>\n    .dataframe tbody tr th:only-of-type {\n        vertical-align: middle;\n    }\n\n    .dataframe tbody tr th {\n        vertical-align: top;\n    }\n\n    .dataframe thead th {\n        text-align: right;\n    }\n</style>\n<table border=\"1\" class=\"dataframe\">\n  <thead>\n    <tr style=\"text-align: right;\">\n      <th></th>\n      <th>nans</th>\n      <th>method</th>\n      <th>number</th>\n      <th>orbital_period</th>\n      <th>mass</th>\n      <th>distance</th>\n      <th>year</th>\n      <th>code</th>\n    </tr>\n  </thead>\n  <tbody>\n    <tr>\n      <th>0</th>\n      <td>0</td>\n      <td>Radial Velocity</td>\n      <td>1</td>\n      <td>269.300000</td>\n      <td>7.100000</td>\n      <td>77.40</td>\n      <td>2006</td>\n      <td>A1</td>\n    </tr>\n    <tr>\n      <th>1</th>\n      <td>0</td>\n      <td>Radial Velocity</td>\n      <td>1</td>\n      <td>874.774000</td>\n      <td>2.210000</td>\n      <td>56.95</td>\n      <td>2008</td>\n      <td>A2</td>\n    </tr>\n    <tr>\n      <th>2</th>\n      <td>0</td>\n      <td>Radial Velocity</td>\n      <td>1</td>\n      <td>763.000000</td>\n      <td>2.600000</td>\n      <td>19.84</td>\n      <td>2011</td>\n      <td>A3</td>\n    </tr>\n    <tr>\n      <th>3</th>\n      <td>0</td>\n      <td>Radial Velocity</td>\n      <td>1</td>\n      <td>326.030000</td>\n      <td>19.400000</td>\n      <td>110.62</td>\n      <td>2007</td>\n      <td>A4</td>\n    </tr>\n    <tr>\n      <th>4</th>\n      <td>0</td>\n      <td>Radial Velocity</td>\n      <td>1</td>\n      <td>516.220000</td>\n      <td>10.500000</td>\n      <td>119.47</td>\n      <td>2009</td>\n      <td>A5</td>\n    </tr>\n    <tr>\n      <th>...</th>\n      <td>...</td>\n      <td>...</td>\n      <td>...</td>\n      <td>...</td>\n      <td>...</td>\n      <td>...</td>\n      <td>...</td>\n      <td>...</td>\n    </tr>\n    <tr>\n      <th>1030</th>\n      <td>1</td>\n      <td>Transit</td>\n      <td>1</td>\n      <td>3.941507</td>\n      <td>2.638161</td>\n      <td>172.00</td>\n      <td>2006</td>\n      <td>A769</td>\n    </tr>\n    <tr>\n      <th>1031</th>\n      <td>1</td>\n      <td>Transit</td>\n      <td>1</td>\n      <td>2.615864</td>\n      <td>2.638161</td>\n      <td>148.00</td>\n      <td>2007</td>\n      <td>A770</td>\n    </tr>\n    <tr>\n      <th>1032</th>\n      <td>1</td>\n      <td>Transit</td>\n      <td>1</td>\n      <td>3.191524</td>\n      <td>2.638161</td>\n      <td>174.00</td>\n      <td>2007</td>\n      <td>A771</td>\n    </tr>\n    <tr>\n      <th>1033</th>\n      <td>1</td>\n      <td>Transit</td>\n      <td>1</td>\n      <td>4.125083</td>\n      <td>2.638161</td>\n      <td>293.00</td>\n      <td>2008</td>\n      <td>A772</td>\n    </tr>\n    <tr>\n      <th>1034</th>\n      <td>1</td>\n      <td>Transit</td>\n      <td>1</td>\n      <td>4.187757</td>\n      <td>2.638161</td>\n      <td>260.00</td>\n      <td>2008</td>\n      <td>A773</td>\n    </tr>\n  </tbody>\n</table>\n<p>1035 rows × 8 columns</p>\n</div>"
     },
     "execution_count": 117,
     "metadata": {},
     "output_type": "execute_result"
    }
   ],
   "source": [
    "df_temp[\"code\"] = \"\"\n",
    "last_rows = 0\n",
    "current_system_ind = 0\n",
    "planet_ind = 0\n",
    "for i in df_temp.index:\n",
    "    if not last_rows:\n",
    "        planet_ind = 0\n",
    "        current_system_ind += 1\n",
    "        last_rows = df_temp.at[i, \"number\"]\n",
    "    df_temp.at[i, \"code\"] = f\"{ascii_uppercase[planet_ind]}{current_system_ind}\"\n",
    "    planet_ind += 1\n",
    "    last_rows -= 1\n",
    "df_temp"
   ],
   "metadata": {
    "collapsed": false,
    "pycharm": {
     "name": "#%%\n"
    }
   }
  },
  {
   "cell_type": "markdown",
   "source": [
    "### Для каждого набора (старого и нового) постройте четыре типа диаграмм:\n",
    "\n",
    "- гистограмма каждого числового признака по всему датасету и по отдельным категориям,\n",
    "\n",
    "- для каждого числового признака набор ящиков с усами по всем категориям,\n",
    "\n",
    "- тепловую карту корреляций для числовых признаков (номер планеты в системе, число планет в системе, период обращения, масса, расстояние, год обнаружения) для всего датасета, для самой массовой и для самой редкой категории.\n",
    "\n",
    "- парные диаграммы рассеяния для всех пар признаков по всему датасету."
   ],
   "metadata": {
    "collapsed": false,
    "pycharm": {
     "name": "#%% md\n"
    }
   }
  },
  {
   "cell_type": "code",
   "execution_count": 118,
   "outputs": [
    {
     "name": "stdout",
     "output_type": "stream",
     "text": [
      "1035\n"
     ]
    },
    {
     "data": {
      "text/plain": "0       269.300000\n1       874.774000\n2       763.000000\n3       326.030000\n4       516.220000\n           ...    \n1030      3.941507\n1031      2.615864\n1032      3.191524\n1033      4.125083\n1034      4.187757\nName: orbital_period, Length: 1035, dtype: float64"
     },
     "execution_count": 118,
     "metadata": {},
     "output_type": "execute_result"
    }
   ],
   "source": [
    "print(len(df_temp))\n",
    "df_temp[\"orbital_period\"]"
   ],
   "metadata": {
    "collapsed": false,
    "pycharm": {
     "name": "#%%\n"
    }
   }
  },
  {
   "cell_type": "code",
   "execution_count": 119,
   "outputs": [
    {
     "data": {
      "text/plain": "array([[<AxesSubplot: title={'center': 'nans'}>,\n        <AxesSubplot: title={'center': 'number'}>],\n       [<AxesSubplot: title={'center': 'orbital_period'}>,\n        <AxesSubplot: title={'center': 'mass'}>],\n       [<AxesSubplot: title={'center': 'distance'}>,\n        <AxesSubplot: title={'center': 'year'}>]], dtype=object)"
     },
     "execution_count": 119,
     "metadata": {},
     "output_type": "execute_result"
    },
    {
     "data": {
      "text/plain": "<Figure size 640x480 with 6 Axes>",
      "image/png": "[encoded data removed]"
     },
     "metadata": {},
     "output_type": "display_data"
    }
   ],
   "source": [
    "# fig, axs = plt.subplots(1, 3)\n",
    "# n_bins = len(df_temp)\n",
    "#\n",
    "# axs[0].hist(df_temp[\"orbital_period\"], bins=500)\n",
    "# axs[0].set_title(\"orbital period\")\n",
    "#\n",
    "# axs[1].hist(df_temp[\"mass\"], bins=500)\n",
    "# axs[1].set_title(\"mass\")\n",
    "#\n",
    "# axs[2].hist(df_temp[\"distance\"], bins=500)\n",
    "# axs[2].set_title(\"distance\")\n",
    "df_temp.hist()"
   ],
   "metadata": {
    "collapsed": false,
    "pycharm": {
     "name": "#%%\n"
    }
   }
  },
  {
   "cell_type": "code",
   "execution_count": 120,
   "outputs": [
    {
     "data": {
      "text/plain": "array([[<AxesSubplot: title={'center': 'nans'}>,\n        <AxesSubplot: title={'center': 'number'}>],\n       [<AxesSubplot: title={'center': 'orbital_period'}>,\n        <AxesSubplot: title={'center': 'mass'}>],\n       [<AxesSubplot: title={'center': 'distance'}>,\n        <AxesSubplot: title={'center': 'year'}>]], dtype=object)"
     },
     "execution_count": 120,
     "metadata": {},
     "output_type": "execute_result"
    },
    {
     "data": {
      "text/plain": "<Figure size 640x480 with 6 Axes>",
      "image/png": "[encoded data removed]"
     },
     "metadata": {},
     "output_type": "display_data"
    }
   ],
   "source": [
    "df_temp2 = df_temp.copy() #.set_index(\"method\").hist()\n",
    "df_temp2.set_index(\"method\")\n",
    "df_temp2.hist()"
   ],
   "metadata": {
    "collapsed": false,
    "pycharm": {
     "name": "#%%\n"
    }
   }
  },
  {
   "cell_type": "code",
   "execution_count": null,
   "outputs": [],
   "source": [],
   "metadata": {
    "collapsed": false,
    "pycharm": {
     "name": "#%%\n"
    }
   }
  }
 ],
 "metadata": {
  "kernelspec": {
   "display_name": "Python 3",
   "language": "python",
   "name": "python3"
  },
  "language_info": {
   "codemirror_mode": {
    "name": "ipython",
    "version": 2
   },
   "file_extension": ".py",
   "mimetype": "text/x-python",
   "name": "python",
   "nbconvert_exporter": "python",
   "pygments_lexer": "ipython2",
   "version": "2.7.6"
  }
 },
 "nbformat": 4,
 "nbformat_minor": 0
}